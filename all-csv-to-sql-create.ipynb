{
 "cells": [
  {
   "attachments": {},
   "cell_type": "markdown",
   "metadata": {},
   "source": [
    "# ALL-CSV-to-SQL-CREATE-TABLES\n",
    "\n",
    "This notebook is a template for generating DROP and CREATE TABLES queries\n",
    "based on csv files inside a folder."
   ]
  },
  {
   "cell_type": "code",
   "execution_count": null,
   "metadata": {},
   "outputs": [],
   "source": [
    "# Step 1: Import necessary libraries\n",
    "import pandas as pd\n",
    "import os\n",
    "\n",
    "# Function to generate the DROP TABLE IF EXISTS and CREATE TABLE queries\n",
    "def generate_create_table_query(df, table_name):\n",
    "    drop_query = f'DROP TABLE IF EXISTS \"{table_name}\";'\n",
    "\n",
    "    data_types_map = {\n",
    "        'int64': 'INTEGER',\n",
    "        'float64': 'REAL',\n",
    "        'datetime64[ns]': 'TIMESTAMP',\n",
    "        'bool': 'BOOLEAN',\n",
    "        'object': 'TEXT'\n",
    "    }\n",
    "\n",
    "    column_definitions = ', '.join([f'\"{col}\" {data_types_map[str(df[col].dtype)]}' for col in df.columns])\n",
    "    create_query = f'CREATE TABLE \"{table_name}\" ({column_definitions});'\n",
    "\n",
    "    return drop_query, create_query\n",
    "\n",
    "# Specify the directory containing the CSV files\n",
    "csv_directory = '/workspace/InstaCart-Online-Grocery-Basket-Analysis-Dataset'\n",
    "\n",
    "# List all CSV files in the directory\n",
    "csv_files = [f for f in os.listdir(csv_directory) if f.endswith('.csv')]\n",
    "\n",
    "# Process each CSV file\n",
    "for csv_file in csv_files:\n",
    "    # Read the CSV file into a DataFrame\n",
    "    df = pd.read_csv(os.path.join(csv_directory, csv_file))\n",
    "\n",
    "    # Extract the table_name from the CSV file name\n",
    "    table_name = os.path.splitext(csv_file)[0]\n",
    "\n",
    "    # Generate the queries\n",
    "    drop_query, create_query = generate_create_table_query(df, table_name)\n",
    "\n",
    "    # Combine the DROP and CREATE queries\n",
    "    full_query = f'{drop_query}\\n{create_query}'\n",
    "\n",
    "    # Print the combined SQL queries\n",
    "    print(f\"/***** {table_name} *****/\\n{full_query}\\n\")\n"
   ]
  }
 ],
 "metadata": {
  "language_info": {
   "name": "python"
  },
  "orig_nbformat": 4
 },
 "nbformat": 4,
 "nbformat_minor": 2
}
