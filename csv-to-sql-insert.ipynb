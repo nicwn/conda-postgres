{
 "cells": [
  {
   "attachments": {},
   "cell_type": "markdown",
   "metadata": {},
   "source": [
    "# CSV-to-SQL-INSERT\n",
    "\n",
    "This notebook is a template for inspecting csv files and creating SQL queries\n",
    "to insert the data into a database."
   ]
  },
  {
   "cell_type": "code",
   "execution_count": 8,
   "metadata": {},
   "outputs": [],
   "source": [
    "# Step 1: Import necessary libraries and open the specific CSV file\n",
    "import pandas as pd\n",
    "\n",
    "csv_file = 'your_csv_file.csv' # Replace with your CSV file name\n",
    "df = pd.read_csv(csv_file)\n"
   ]
  },
  {
   "cell_type": "code",
   "execution_count": 11,
   "metadata": {},
   "outputs": [
    {
     "name": "stdout",
     "output_type": "stream",
     "text": [
      "** Data Types: **\n",
      "aisle_id     int64\n",
      "aisle       object\n",
      "dtype: object\n",
      "\n",
      "** First 5 rows: **\n",
      "   aisle_id                       aisle\n",
      "0         1       prepared soups salads\n",
      "1         2           specialty cheeses\n",
      "2         3         energy granola bars\n",
      "3         4               instant foods\n",
      "4         5  marinades meat preparation\n",
      "\n",
      "** Info: **\n",
      "<class 'pandas.core.frame.DataFrame'>\n",
      "RangeIndex: 134 entries, 0 to 133\n",
      "Data columns (total 2 columns):\n",
      " #   Column    Non-Null Count  Dtype \n",
      "---  ------    --------------  ----- \n",
      " 0   aisle_id  134 non-null    int64 \n",
      " 1   aisle     134 non-null    object\n",
      "dtypes: int64(1), object(1)\n",
      "memory usage: 2.2+ KB\n",
      "None\n"
     ]
    }
   ],
   "source": [
    "# Step 2: Display the basic structure of the CSV file\n",
    "print(\"***** Data Types: *****\")\n",
    "print(df.dtypes)\n",
    "print(\"\\n***** First 5 rows: *****\")\n",
    "print(df.head())\n",
    "\n",
    "print(\"\\n***** Info: *****\")\n",
    "print(df.info())\n"
   ]
  },
  {
   "cell_type": "code",
   "execution_count": 17,
   "metadata": {},
   "outputs": [],
   "source": [
    "# Step 2: Function to generate the DROP TABLE IF EXISTS and CREATE TABLE queries\n",
    "def generate_create_table_query(df, table_name):\n",
    "    drop_query = f'DROP TABLE IF EXISTS \"{table_name}\";'\n",
    "    \n",
    "    data_types_map = {\n",
    "        'int64': 'INTEGER',\n",
    "        'float64': 'REAL',\n",
    "        'datetime64[ns]': 'TIMESTAMP',\n",
    "        'bool': 'BOOLEAN',\n",
    "        'object': 'VARCHAR'\n",
    "    }\n",
    "    \n",
    "    column_definitions = ', '.join([f'\"{col}\" {data_types_map[str(df[col].dtype)]}' for col in df.columns])\n",
    "    create_query = f'CREATE TABLE \"{table_name}\" ({column_definitions});'\n",
    "    \n",
    "    return drop_query, create_query\n",
    "\n",
    "# Generate the queries\n",
    "drop_query, create_query = generate_create_table_query(df, table_name)\n",
    "\n",
    "# Combine the DROP, CREATE, and INSERT queries\n",
    "full_query = f'{drop_query}\\n{create_query}\\n{insert_query}'\n"
   ]
  },
  {
   "attachments": {},
   "cell_type": "markdown",
   "metadata": {},
   "source": [
    "Check with Step 2's result. Make sure you use the best data types for each column.\n",
    "\n",
    "See: https://learnsql.com/blog/postgresql-data-types/"
   ]
  },
  {
   "cell_type": "code",
   "execution_count": 18,
   "metadata": {},
   "outputs": [
    {
     "name": "stdout",
     "output_type": "stream",
     "text": [
      "DROP TABLE IF EXISTS \"your_table_name\";\n",
      "CREATE TABLE \"your_table_name\" (\"aisle_id\" INTEGER, \"aisle\" VARCHAR);\n",
      "INSERT INTO your_table_name (\"aisle_id\", \"aisle\") VALUES (:aisle_id, :aisle)\n"
     ]
    }
   ],
   "source": [
    "# Print the combined SQL queries\n",
    "print(full_query)\n"
   ]
  },
  {
   "cell_type": "code",
   "execution_count": null,
   "metadata": {},
   "outputs": [],
   "source": [
    "# Function to generate the COPY query\n",
    "def generate_copy_query(table_name, csv_file_path):\n",
    "    # Replace backslashes with double backslashes and single quotes with double single quotes\n",
    "    formatted_path = csv_file_path.replace('\\\\', '\\\\\\\\').replace(\"'\", \"''\")\n",
    "    return f\"COPY \\\"{table_name}\\\" FROM '{formatted_path}' WITH (FORMAT csv, HEADER true, DELIMITER ',');\"\n",
    "\n",
    "# Generate the COPY query\n",
    "csv_file_path = '/home/your_csv_file.csv' # Replace with the path to your CSV file within the pgadmin-home-vol folder\n",
    "copy_query = generate_copy_query(table_name, csv_file_path)\n",
    "\n",
    "# Combine the DROP, CREATE, and COPY queries\n",
    "full_query = f'{drop_query}\\n{create_query}\\n{copy_query}'\n"
   ]
  },
  {
   "cell_type": "code",
   "execution_count": null,
   "metadata": {},
   "outputs": [],
   "source": [
    "# Print the combined SQL queries\n",
    "print(full_query)\n"
   ]
  }
 ],
 "metadata": {
  "kernelspec": {
   "display_name": "base",
   "language": "python",
   "name": "python3"
  },
  "language_info": {
   "codemirror_mode": {
    "name": "ipython",
    "version": 3
   },
   "file_extension": ".py",
   "mimetype": "text/x-python",
   "name": "python",
   "nbconvert_exporter": "python",
   "pygments_lexer": "ipython3",
   "version": "3.9.13"
  },
  "orig_nbformat": 4
 },
 "nbformat": 4,
 "nbformat_minor": 2
}
